{
 "cells": [
  {
   "cell_type": "code",
   "execution_count": 1,
   "id": "394c8dae-bd31-4bf6-a251-89197db08911",
   "metadata": {
    "tags": []
   },
   "outputs": [],
   "source": [
    "# Import necessary libraries\n",
    "import numpy as np\n",
    "import pandas as pd\n",
    "import matplotlib.pyplot as plt\n",
    "from sklearn.model_selection import train_test_split\n",
    "from sklearn.linear_model import Lasso, Ridge\n",
    "from sklearn.metrics import mean_squared_error, r2_score\n",
    "from ipywidgets import interact, FloatLogSlider\n",
    "\n",
    "# Generate data\n",
    "np.random.seed(42)\n",
    "n_samples = 200\n",
    "X = np.zeros((n_samples, 6))\n",
    "X[:, 0] = np.random.normal(0, 1, n_samples)  # X1 - Important feature\n",
    "X[:, 1] = np.random.normal(0, 1, n_samples)  # X2 -  Important feature\n",
    "X[:, 2] = X[:, 0] + np.random.normal(0, 0.1, n_samples)  # Correlated with X1\n",
    "X[:, 3] = X[:, 1] + np.random.normal(0, 0.1, n_samples)  # Correlated with X2\n",
    "X[:, 4] = np.random.normal(0, 0.1, n_samples)  # Noise\n",
    "X[:, 5] = np.random.normal(0, 0.1, n_samples)  # Noise\n",
    "\n",
    "y = 3 * X[:, 0] + 2 * X[:, 1] + 0.5 * X[:, 2] + np.random.normal(0, 0.1, n_samples) "
   ]
  },
  {
   "cell_type": "markdown",
   "id": "866ee7e3-26d4-4523-b1f9-bbf2b8001c21",
   "metadata": {},
   "source": [
    "Now that you have your data, do the following:\n",
    "\n",
    "1. Split your data into training and testing."
   ]
  },
  {
   "cell_type": "code",
   "execution_count": 2,
   "id": "736efad7-9f79-4bf4-b25c-13cca3346224",
   "metadata": {
    "tags": []
   },
   "outputs": [],
   "source": [
    "# Split your data into training and testing\n",
    "X_train, X_test, y_train, y_test = train_test_split(X, y, test_size = 0.3, random_state = 42)"
   ]
  },
  {
   "cell_type": "markdown",
   "id": "2b8f8dbb-c88e-41d7-a31f-1855f2e14118",
   "metadata": {},
   "source": [
    "2. Create and fit a ridge regression"
   ]
  },
  {
   "cell_type": "code",
   "execution_count": 3,
   "id": "afa2b3e0-4a06-47e7-bcb3-3ba0df490a62",
   "metadata": {
    "tags": []
   },
   "outputs": [],
   "source": [
    "# Create and fit a ridge regression\n",
    "ridge_model = Ridge() # Default alpha is 10\n",
    "\n",
    "ridge_model.fit(X_train, y_train)\n",
    "\n",
    "ridge_predictions = ridge_model.predict(X_test)"
   ]
  },
  {
   "cell_type": "markdown",
   "id": "8c19cea0-2386-4c1d-99ca-1912098fc87d",
   "metadata": {},
   "source": [
    "3. Calculate the MSE and R2 for your ridge regression."
   ]
  },
  {
   "cell_type": "code",
   "execution_count": 4,
   "id": "755dfa70-cd4e-4e46-ae8f-b3fdf00d004e",
   "metadata": {
    "tags": []
   },
   "outputs": [
    {
     "name": "stdout",
     "output_type": "stream",
     "text": [
      "Ridge Regression RMSE: 0.14410020171824975\n",
      "Ridge Regression R^2: 0.9984722762470865\n"
     ]
    }
   ],
   "source": [
    "# Calculate the MSE and R2 for your ridge regression\n",
    "ridge_rmse = np.sqrt(mean_squared_error(y_test, ridge_predictions))\n",
    "ridge_r2 = r2_score(y_test, ridge_predictions)\n",
    "\n",
    "print(\"Ridge Regression RMSE:\", ridge_rmse)\n",
    "print(\"Ridge Regression R^2:\", ridge_r2)"
   ]
  },
  {
   "cell_type": "markdown",
   "id": "04be816d-a693-42fa-a6a8-8537b5c759c5",
   "metadata": {},
   "source": [
    "4. Create and fit a lasso regression model."
   ]
  },
  {
   "cell_type": "code",
   "execution_count": 5,
   "id": "c16b9dd6-7958-40c1-b812-9a86cb36db2b",
   "metadata": {
    "tags": []
   },
   "outputs": [],
   "source": [
    "# Create and fit a lasso regression model\n",
    "lasso_model = Lasso()\n",
    "\n",
    "lasso_model.fit(X_train, y_train)\n",
    "\n",
    "lasso_predictions = lasso_model.predict(X_test)"
   ]
  },
  {
   "cell_type": "markdown",
   "id": "db70fbd1-b208-45f3-91ee-6023cd2e1271",
   "metadata": {},
   "source": [
    "5. Calculate the MSE and R2 for your lasso model."
   ]
  },
  {
   "cell_type": "code",
   "execution_count": 6,
   "id": "816f1426-6345-42d7-acb4-71aae49d8e50",
   "metadata": {
    "tags": []
   },
   "outputs": [
    {
     "name": "stdout",
     "output_type": "stream",
     "text": [
      "Lasso Regression RMSE: 1.2984978990079017\n",
      "Lasso Regression R2: 0.8759496036905758\n"
     ]
    }
   ],
   "source": [
    "# Calculate the MSE and R2 for your lasso model\n",
    "lasso_rmse = np.sqrt(mean_squared_error(y_test, lasso_predictions))\n",
    "\n",
    "lasso_r2 = r2_score(y_test, lasso_predictions)\n",
    "\n",
    "print(\"Lasso Regression RMSE:\", lasso_rmse)\n",
    "print(\"Lasso Regression R2:\", lasso_r2)"
   ]
  },
  {
   "cell_type": "code",
   "execution_count": 7,
   "id": "159c95d4-bdf1-44d3-b94e-0b8a15508fbe",
   "metadata": {
    "tags": []
   },
   "outputs": [
    {
     "ename": "NameError",
     "evalue": "name 'alphas' is not defined",
     "output_type": "error",
     "traceback": [
      "\u001b[0;31m---------------------------------------------------------------------------\u001b[0m",
      "\u001b[0;31mNameError\u001b[0m                                 Traceback (most recent call last)",
      "Cell \u001b[0;32mIn[7], line 4\u001b[0m\n\u001b[1;32m      1\u001b[0m \u001b[38;5;66;03m# Visualize alphas against RMSE for lasso and ridge\u001b[39;00m\n\u001b[1;32m      3\u001b[0m plt\u001b[38;5;241m.\u001b[39mfigure(figsize \u001b[38;5;241m=\u001b[39m (\u001b[38;5;241m10\u001b[39m, \u001b[38;5;241m5\u001b[39m))\n\u001b[0;32m----> 4\u001b[0m plt\u001b[38;5;241m.\u001b[39mplot(\u001b[43malphas\u001b[49m, lasso_rmse, label \u001b[38;5;241m=\u001b[39m \u001b[38;5;124m'\u001b[39m\u001b[38;5;124mLasso MSE\u001b[39m\u001b[38;5;124m'\u001b[39m)\n\u001b[1;32m      5\u001b[0m plt\u001b[38;5;241m.\u001b[39mplot(alphas, rmse_ridge, label \u001b[38;5;241m=\u001b[39m \u001b[38;5;124m'\u001b[39m\u001b[38;5;124mRidge MSE\u001b[39m\u001b[38;5;124m'\u001b[39m)\n\u001b[1;32m      6\u001b[0m plt\u001b[38;5;241m.\u001b[39mxscale(\u001b[38;5;124m'\u001b[39m\u001b[38;5;124mlog\u001b[39m\u001b[38;5;124m'\u001b[39m)\n",
      "\u001b[0;31mNameError\u001b[0m: name 'alphas' is not defined"
     ]
    },
    {
     "data": {
      "text/plain": [
       "<Figure size 1000x500 with 0 Axes>"
      ]
     },
     "metadata": {},
     "output_type": "display_data"
    }
   ],
   "source": [
    "# Visualize alphas against RMSE for lasso and ridge\n",
    "\n",
    "plt.figure(figsize = (10, 5))\n",
    "plt.plot(alphas, lasso_rmse, label = 'Lasso MSE')\n",
    "plt.plot(alphas, rmse_ridge, label = 'Ridge MSE')\n",
    "plt.xscale('log')\n",
    "plt.xlabel('Alpha')\n",
    "plt.ylabel('Root Mean Squared Error')\n",
    "plt.title('RMSE vs. Alpha for Lasso and Ridge Regression')\n",
    "plt.legend()\n",
    "plt.show()"
   ]
  },
  {
   "cell_type": "markdown",
   "id": "1b1297f5-91f3-4aea-9bac-ead9e78a2313",
   "metadata": {},
   "source": [
    "## Coefficient Bar Plot"
   ]
  },
  {
   "cell_type": "code",
   "execution_count": null,
   "id": "b2620308-40e4-488c-9221-33799520ce9f",
   "metadata": {
    "tags": []
   },
   "outputs": [],
   "source": [
    "\n",
    "alphas = [0.1, 1, 10]\n",
    "data = []\n",
    "\n",
    "for alpha in alphas:\n",
    "    ridge = Ridge(alpha = alpha).fit(X,y)\n",
    "    lasso = Lasso(alpha = alpha).fit(X,y)\n",
    "    \n",
    "    data.append(pd.DataFrame({\n",
    "        'Ridge': ridge.coef_,\n",
    "        'Lasso': lasso.coef_\n",
    "    }, index = ['X1', 'X2', 'X1corr', 'X2_Corr', 'Noise1', 'Noise2']))\n",
    "\n",
    "fig, axes = plt.subplots(1,3, figsize = (15,5), sharey = True)\n",
    "for i, df in enumerate(data):\n",
    "    df.plot.bar(ax = axes[i], width = 0.8)\n",
    "    axes[i].set_title(f'Alpha = {alphas[i]}')\n",
    "    axes[i].set_xticklabels(df.index, rotation = 45)\n",
    "    \n",
    "plt.show()\n",
    " "
   ]
  },
  {
   "cell_type": "code",
   "execution_count": null,
   "id": "c47aa0d6-6db9-4c3a-870e-3a3b410972ec",
   "metadata": {
    "tags": []
   },
   "outputs": [],
   "source": [
    "# Create function for generating plot\n",
    "def update_alphas(alpha, model_type):\n",
    "    if model_type == 'Lasso':\n",
    "        model = Lasso(alpha = alpha)\n",
    "    else:\n",
    "        model = Ridge(alpha = alpha)\n",
    "        \n",
    "    model.fit(X_train, y_train)\n",
    "    y_pred = model.predict(X_test)\n",
    "    \n",
    "    rmse = np.sqrt(mean_squared_error(y_test, y_pred))\n",
    "    r2 = r2_score(y_test, y_pred)\n",
    "    \n",
    "    plt.figure(figsize = (10,5))\n",
    "    plt.scatter(y_test, y_pred, color = 'blue', alpha = 0.5, label = f'Predictions (alpha = {alpha})')\n",
    "    plt.plot([y_test.min(), y_test.max()], [y_test.min(), y_test.max()], 'k--', lw = 2)\n",
    "    plt.title(f'{model_type} Regression: Predictions vs Actual (alpha = {alpha})')\n",
    "    plt.xlabel('Actual Values')\n",
    "    plt.ylabel('Predicted Values')\n",
    "    plt.legend()\n",
    "    plt.figtext(0.5, -.05, f'MSE: {rmse}, R2: {r2}', ha = 'center', fontsize = 12)\n",
    "    plt.show()\n",
    "    \n",
    "    \n",
    "# Create interactive widgets\n",
    "alpha_slider = FloatLogSlider(value = 1.0, base = 10, min = -3, max = 3, step = 0.1, description = 'Alpha')\n",
    "\n",
    "model_selector = {'Lasso Model': 'Lasso', 'Ridge': 'Ridge'}\n",
    "\n",
    "interact(update_alphas, alpha = alpha_slider, model_type = model_selector)\n",
    "    "
   ]
  },
  {
   "cell_type": "code",
   "execution_count": null,
   "id": "a727fc67-1195-420e-b9de-7825dc96ec79",
   "metadata": {},
   "outputs": [],
   "source": []
  }
 ],
 "metadata": {
  "kernelspec": {
   "display_name": "Anaconda 3 (EDS232)",
   "language": "python",
   "name": "ml-env"
  },
  "language_info": {
   "codemirror_mode": {
    "name": "ipython",
    "version": 3
   },
   "file_extension": ".py",
   "mimetype": "text/x-python",
   "name": "python",
   "nbconvert_exporter": "python",
   "pygments_lexer": "ipython3",
   "version": "3.10.16"
  }
 },
 "nbformat": 4,
 "nbformat_minor": 5
}
