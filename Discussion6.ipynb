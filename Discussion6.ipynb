{
 "cells": [
  {
   "cell_type": "code",
   "execution_count": 1,
   "id": "9fb3e892-7c92-4ca5-a6e5-a009e4424726",
   "metadata": {
    "tags": []
   },
   "outputs": [],
   "source": [
    "import numpy as np\n",
    "import pandas as pd\n",
    "from sklearn.model_selection import train_test_split\n",
    "from sklearn.ensemble import RandomForestClassifier, BaggingClassifier\n",
    "from sklearn.tree import DecisionTreeClassifier\n",
    "from sklearn.preprocessing import StandardScaler\n",
    "from sklearn.preprocessing import LabelEncoder\n",
    "from sklearn.impute import SimpleImputer, KNNImputer\n",
    "from sklearn.metrics import mean_squared_error, accuracy_score\n",
    "from ucimlrepo import fetch_ucirepo "
   ]
  },
  {
   "cell_type": "code",
   "execution_count": 3,
   "id": "014be9cc-461e-4b5f-855f-6750b5ef5093",
   "metadata": {
    "tags": []
   },
   "outputs": [
    {
     "data": {
      "text/html": [
       "<div>\n",
       "<style scoped>\n",
       "    .dataframe tbody tr th:only-of-type {\n",
       "        vertical-align: middle;\n",
       "    }\n",
       "\n",
       "    .dataframe tbody tr th {\n",
       "        vertical-align: top;\n",
       "    }\n",
       "\n",
       "    .dataframe thead th {\n",
       "        text-align: right;\n",
       "    }\n",
       "</style>\n",
       "<table border=\"1\" class=\"dataframe\">\n",
       "  <thead>\n",
       "    <tr style=\"text-align: right;\">\n",
       "      <th></th>\n",
       "      <th>cap-shape</th>\n",
       "      <th>cap-surface</th>\n",
       "      <th>cap-color</th>\n",
       "      <th>bruises</th>\n",
       "      <th>odor</th>\n",
       "      <th>gill-attachment</th>\n",
       "      <th>gill-spacing</th>\n",
       "      <th>gill-size</th>\n",
       "      <th>gill-color</th>\n",
       "      <th>stalk-shape</th>\n",
       "      <th>stalk-root</th>\n",
       "      <th>stalk-surface-above-ring</th>\n",
       "      <th>stalk-surface-below-ring</th>\n",
       "      <th>stalk-color-above-ring</th>\n",
       "      <th>stalk-color-below-ring</th>\n",
       "      <th>veil-type</th>\n",
       "      <th>veil-color</th>\n",
       "      <th>ring-number</th>\n",
       "      <th>ring-type</th>\n",
       "      <th>spore-print-color</th>\n",
       "      <th>population</th>\n",
       "      <th>habitat</th>\n",
       "    </tr>\n",
       "  </thead>\n",
       "  <tbody>\n",
       "    <tr>\n",
       "      <th>0</th>\n",
       "      <td>x</td>\n",
       "      <td>s</td>\n",
       "      <td>n</td>\n",
       "      <td>t</td>\n",
       "      <td>p</td>\n",
       "      <td>f</td>\n",
       "      <td>c</td>\n",
       "      <td>n</td>\n",
       "      <td>k</td>\n",
       "      <td>e</td>\n",
       "      <td>e</td>\n",
       "      <td>s</td>\n",
       "      <td>s</td>\n",
       "      <td>w</td>\n",
       "      <td>w</td>\n",
       "      <td>p</td>\n",
       "      <td>w</td>\n",
       "      <td>o</td>\n",
       "      <td>p</td>\n",
       "      <td>k</td>\n",
       "      <td>s</td>\n",
       "      <td>u</td>\n",
       "    </tr>\n",
       "    <tr>\n",
       "      <th>1</th>\n",
       "      <td>x</td>\n",
       "      <td>s</td>\n",
       "      <td>y</td>\n",
       "      <td>t</td>\n",
       "      <td>a</td>\n",
       "      <td>f</td>\n",
       "      <td>c</td>\n",
       "      <td>b</td>\n",
       "      <td>k</td>\n",
       "      <td>e</td>\n",
       "      <td>c</td>\n",
       "      <td>s</td>\n",
       "      <td>s</td>\n",
       "      <td>w</td>\n",
       "      <td>w</td>\n",
       "      <td>p</td>\n",
       "      <td>w</td>\n",
       "      <td>o</td>\n",
       "      <td>p</td>\n",
       "      <td>n</td>\n",
       "      <td>n</td>\n",
       "      <td>g</td>\n",
       "    </tr>\n",
       "    <tr>\n",
       "      <th>2</th>\n",
       "      <td>b</td>\n",
       "      <td>s</td>\n",
       "      <td>w</td>\n",
       "      <td>t</td>\n",
       "      <td>l</td>\n",
       "      <td>f</td>\n",
       "      <td>c</td>\n",
       "      <td>b</td>\n",
       "      <td>n</td>\n",
       "      <td>e</td>\n",
       "      <td>c</td>\n",
       "      <td>s</td>\n",
       "      <td>s</td>\n",
       "      <td>w</td>\n",
       "      <td>w</td>\n",
       "      <td>p</td>\n",
       "      <td>w</td>\n",
       "      <td>o</td>\n",
       "      <td>p</td>\n",
       "      <td>n</td>\n",
       "      <td>n</td>\n",
       "      <td>m</td>\n",
       "    </tr>\n",
       "  </tbody>\n",
       "</table>\n",
       "</div>"
      ],
      "text/plain": [
       "  cap-shape cap-surface cap-color bruises odor gill-attachment gill-spacing  \\\n",
       "0         x           s         n       t    p               f            c   \n",
       "1         x           s         y       t    a               f            c   \n",
       "2         b           s         w       t    l               f            c   \n",
       "\n",
       "  gill-size gill-color stalk-shape stalk-root stalk-surface-above-ring  \\\n",
       "0         n          k           e          e                        s   \n",
       "1         b          k           e          c                        s   \n",
       "2         b          n           e          c                        s   \n",
       "\n",
       "  stalk-surface-below-ring stalk-color-above-ring stalk-color-below-ring  \\\n",
       "0                        s                      w                      w   \n",
       "1                        s                      w                      w   \n",
       "2                        s                      w                      w   \n",
       "\n",
       "  veil-type veil-color ring-number ring-type spore-print-color population  \\\n",
       "0         p          w           o         p                 k          s   \n",
       "1         p          w           o         p                 n          n   \n",
       "2         p          w           o         p                 n          n   \n",
       "\n",
       "  habitat  \n",
       "0       u  \n",
       "1       g  \n",
       "2       m  "
      ]
     },
     "execution_count": 3,
     "metadata": {},
     "output_type": "execute_result"
    }
   ],
   "source": [
    "# Fetch dataset \n",
    "mushroom = fetch_ucirepo(id=73) \n",
    "  \n",
    "# Save data as X and y variables\n",
    "X = mushroom.data.features \n",
    "y = np.ravel(mushroom.data.targets)\n",
    "\n",
    "# Expand dataframe columns and look at view dataframe\n",
    "pd.set_option('display.max_columns', None)\n",
    "X.head(3)"
   ]
  },
  {
   "cell_type": "markdown",
   "id": "82da6199-0bcc-4a89-91af-c76978df4bb8",
   "metadata": {},
   "source": [
    "## Encoding Data"
   ]
  },
  {
   "cell_type": "code",
   "execution_count": 7,
   "id": "cc20a36a-6aa5-4561-b960-3131fe9b4a47",
   "metadata": {
    "tags": []
   },
   "outputs": [
    {
     "data": {
      "text/html": [
       "<div>\n",
       "<style scoped>\n",
       "    .dataframe tbody tr th:only-of-type {\n",
       "        vertical-align: middle;\n",
       "    }\n",
       "\n",
       "    .dataframe tbody tr th {\n",
       "        vertical-align: top;\n",
       "    }\n",
       "\n",
       "    .dataframe thead th {\n",
       "        text-align: right;\n",
       "    }\n",
       "</style>\n",
       "<table border=\"1\" class=\"dataframe\">\n",
       "  <thead>\n",
       "    <tr style=\"text-align: right;\">\n",
       "      <th></th>\n",
       "      <th>cap-shape</th>\n",
       "      <th>cap-surface</th>\n",
       "      <th>cap-color</th>\n",
       "      <th>bruises</th>\n",
       "      <th>odor</th>\n",
       "    </tr>\n",
       "  </thead>\n",
       "  <tbody>\n",
       "    <tr>\n",
       "      <th>0</th>\n",
       "      <td>5</td>\n",
       "      <td>2</td>\n",
       "      <td>4</td>\n",
       "      <td>1</td>\n",
       "      <td>6</td>\n",
       "    </tr>\n",
       "    <tr>\n",
       "      <th>1</th>\n",
       "      <td>5</td>\n",
       "      <td>2</td>\n",
       "      <td>9</td>\n",
       "      <td>1</td>\n",
       "      <td>0</td>\n",
       "    </tr>\n",
       "    <tr>\n",
       "      <th>2</th>\n",
       "      <td>0</td>\n",
       "      <td>2</td>\n",
       "      <td>8</td>\n",
       "      <td>1</td>\n",
       "      <td>3</td>\n",
       "    </tr>\n",
       "    <tr>\n",
       "      <th>3</th>\n",
       "      <td>5</td>\n",
       "      <td>3</td>\n",
       "      <td>8</td>\n",
       "      <td>1</td>\n",
       "      <td>6</td>\n",
       "    </tr>\n",
       "    <tr>\n",
       "      <th>4</th>\n",
       "      <td>5</td>\n",
       "      <td>2</td>\n",
       "      <td>3</td>\n",
       "      <td>0</td>\n",
       "      <td>5</td>\n",
       "    </tr>\n",
       "  </tbody>\n",
       "</table>\n",
       "</div>"
      ],
      "text/plain": [
       "  cap-shape cap-surface cap-color bruises odor\n",
       "0         5           2         4       1    6\n",
       "1         5           2         9       1    0\n",
       "2         0           2         8       1    3\n",
       "3         5           3         8       1    6\n",
       "4         5           2         3       0    5"
      ]
     },
     "execution_count": 7,
     "metadata": {},
     "output_type": "execute_result"
    }
   ],
   "source": [
    "# Factorize all cloumns\n",
    "for col in X.columns:\n",
    "    X.loc[:, col] = pd.factorize(X[col], sort = True)[0]\n",
    "\n",
    "# view first few rows of encoded data\n",
    "X.iloc[0:5, 0:5]"
   ]
  },
  {
   "cell_type": "markdown",
   "id": "71f3b477-c8b5-4601-92c1-f4465d6e03bb",
   "metadata": {},
   "source": [
    "## Time to impute!\n",
    "\n",
    "Does our dataset have any missing values? Let's check!"
   ]
  },
  {
   "cell_type": "code",
   "execution_count": 8,
   "id": "26c69610-6f5f-408b-9175-4a9f92b5a761",
   "metadata": {
    "tags": []
   },
   "outputs": [
    {
     "data": {
      "text/plain": [
       "cap-shape                   0\n",
       "cap-surface                 0\n",
       "cap-color                   0\n",
       "bruises                     0\n",
       "odor                        0\n",
       "gill-attachment             0\n",
       "gill-spacing                0\n",
       "gill-size                   0\n",
       "gill-color                  0\n",
       "stalk-shape                 0\n",
       "stalk-root                  0\n",
       "stalk-surface-above-ring    0\n",
       "stalk-surface-below-ring    0\n",
       "stalk-color-above-ring      0\n",
       "stalk-color-below-ring      0\n",
       "veil-type                   0\n",
       "veil-color                  0\n",
       "ring-number                 0\n",
       "ring-type                   0\n",
       "spore-print-color           0\n",
       "population                  0\n",
       "habitat                     0\n",
       "dtype: int64"
      ]
     },
     "execution_count": 8,
     "metadata": {},
     "output_type": "execute_result"
    }
   ],
   "source": [
    "# Check for NAs\n",
    "X.isna().sum()"
   ]
  },
  {
   "cell_type": "markdown",
   "id": "a84cb505-d51c-4bcf-b44a-08f9ce4280eb",
   "metadata": {},
   "source": [
    "WE are ging  to randomly assign observations in our dataset to be missing, and then see which imputation methods perform best by comparing their results to our actual dataset. :Lets randomly assign NA observations thourghout our dtaa, We weill create a copy of our df and call it `X_Na`."
   ]
  },
  {
   "cell_type": "code",
   "execution_count": 9,
   "id": "ddf6cc97-feea-454d-b79d-47bac33359ee",
   "metadata": {
    "tags": []
   },
   "outputs": [],
   "source": [
    "# Create a copy of X variables\n",
    "X_Na = X.copy()"
   ]
  },
  {
   "cell_type": "code",
   "execution_count": 11,
   "id": "c60257fc-1406-4d20-92e9-d9ba827b9de7",
   "metadata": {
    "tags": []
   },
   "outputs": [],
   "source": [
    "# Assign 10% of new dataframe with NA values\n",
    "for col in X_Na.columns:\n",
    "    X_Na.loc[X_Na.sample(frac = 0.1).index, col] = np.nan"
   ]
  },
  {
   "cell_type": "code",
   "execution_count": 13,
   "id": "9ac115a2-14a6-4928-81e1-184235c586ef",
   "metadata": {
    "tags": []
   },
   "outputs": [
    {
     "data": {
      "text/plain": [
       "cap-shape                   812\n",
       "cap-surface                 812\n",
       "cap-color                   812\n",
       "bruises                     812\n",
       "odor                        812\n",
       "gill-attachment             812\n",
       "gill-spacing                812\n",
       "gill-size                   812\n",
       "gill-color                  812\n",
       "stalk-shape                 812\n",
       "stalk-root                  812\n",
       "stalk-surface-above-ring    812\n",
       "stalk-surface-below-ring    812\n",
       "stalk-color-above-ring      812\n",
       "stalk-color-below-ring      812\n",
       "veil-type                   812\n",
       "veil-color                  812\n",
       "ring-number                 812\n",
       "ring-type                   812\n",
       "spore-print-color           812\n",
       "population                  812\n",
       "habitat                     812\n",
       "dtype: int64"
      ]
     },
     "execution_count": 13,
     "metadata": {},
     "output_type": "execute_result"
    }
   ],
   "source": [
    "# Check to make sure there are missing values\n",
    "X_Na.isna().sum()"
   ]
  },
  {
   "cell_type": "markdown",
   "id": "dbf35c03-a665-4bac-b8a9-99d1a83329f8",
   "metadata": {
    "tags": []
   },
   "source": [
    "Imputation method #1: Filling NA values with the mode"
   ]
  },
  {
   "cell_type": "code",
   "execution_count": 15,
   "id": "5d1283c9-1339-4e28-9966-15d768cc17cd",
   "metadata": {
    "tags": []
   },
   "outputs": [
    {
     "data": {
      "text/plain": [
       "cap-shape                   0\n",
       "cap-surface                 0\n",
       "cap-color                   0\n",
       "bruises                     0\n",
       "odor                        0\n",
       "gill-attachment             0\n",
       "gill-spacing                0\n",
       "gill-size                   0\n",
       "gill-color                  0\n",
       "stalk-shape                 0\n",
       "stalk-root                  0\n",
       "stalk-surface-above-ring    0\n",
       "stalk-surface-below-ring    0\n",
       "stalk-color-above-ring      0\n",
       "stalk-color-below-ring      0\n",
       "veil-type                   0\n",
       "veil-color                  0\n",
       "ring-number                 0\n",
       "ring-type                   0\n",
       "spore-print-color           0\n",
       "population                  0\n",
       "habitat                     0\n",
       "dtype: int64"
      ]
     },
     "execution_count": 15,
     "metadata": {},
     "output_type": "execute_result"
    }
   ],
   "source": [
    "# Impute with mode\n",
    "X_mode_impute = X_Na.fillna(X_Na.mode().iloc[0])\n",
    "\n",
    "# Check to make sure there are no NAs\n",
    "X_mode_impute.isna().sum()"
   ]
  },
  {
   "cell_type": "markdown",
   "id": "30847335-1cb8-43c5-84c3-b4e5f2715b58",
   "metadata": {},
   "source": [
    "Imputation method #2: Filling NA values with the median using `SimpleImputer`"
   ]
  },
  {
   "cell_type": "code",
   "execution_count": 17,
   "id": "73676ec3-aa26-4127-a065-d1a43ce890a1",
   "metadata": {
    "tags": []
   },
   "outputs": [
    {
     "data": {
      "text/plain": [
       "cap-shape                   0\n",
       "cap-surface                 0\n",
       "cap-color                   0\n",
       "bruises                     0\n",
       "odor                        0\n",
       "gill-attachment             0\n",
       "gill-spacing                0\n",
       "gill-size                   0\n",
       "gill-color                  0\n",
       "stalk-shape                 0\n",
       "stalk-root                  0\n",
       "stalk-surface-above-ring    0\n",
       "stalk-surface-below-ring    0\n",
       "stalk-color-above-ring      0\n",
       "stalk-color-below-ring      0\n",
       "veil-type                   0\n",
       "veil-color                  0\n",
       "ring-number                 0\n",
       "ring-type                   0\n",
       "spore-print-color           0\n",
       "population                  0\n",
       "habitat                     0\n",
       "dtype: int64"
      ]
     },
     "execution_count": 17,
     "metadata": {},
     "output_type": "execute_result"
    }
   ],
   "source": [
    "# Impute with median (using SimpleImputer)\n",
    "median_impute = SimpleImputer(strategy = 'median')\n",
    "X_median_impute = median_impute.fit_transform(X_Na)\n",
    "X_median_impute = pd.DataFrame(X_median_impute, columns = X.columns)\n",
    "\n",
    "# Check to amke sure there are no NAs\n",
    "X_median_impute.isna().sum()"
   ]
  },
  {
   "cell_type": "markdown",
   "id": "b630efb3-c160-44fc-8f3c-333c6f9af87f",
   "metadata": {},
   "source": [
    "Imputation method #3: Filling NA values with KNN Imputer"
   ]
  },
  {
   "cell_type": "code",
   "execution_count": 18,
   "id": "918ed83e-1259-4f8e-9730-2e3da3d0daaf",
   "metadata": {
    "tags": []
   },
   "outputs": [
    {
     "data": {
      "text/plain": [
       "cap-shape                   0\n",
       "cap-surface                 0\n",
       "cap-color                   0\n",
       "bruises                     0\n",
       "odor                        0\n",
       "gill-attachment             0\n",
       "gill-spacing                0\n",
       "gill-size                   0\n",
       "gill-color                  0\n",
       "stalk-shape                 0\n",
       "stalk-root                  0\n",
       "stalk-surface-above-ring    0\n",
       "stalk-surface-below-ring    0\n",
       "stalk-color-above-ring      0\n",
       "stalk-color-below-ring      0\n",
       "veil-type                   0\n",
       "veil-color                  0\n",
       "ring-number                 0\n",
       "ring-type                   0\n",
       "spore-print-color           0\n",
       "population                  0\n",
       "habitat                     0\n",
       "dtype: int64"
      ]
     },
     "execution_count": 18,
     "metadata": {},
     "output_type": "execute_result"
    }
   ],
   "source": [
    "# Impute with KNN Imputer\n",
    "knn_impute = KNNImputer(n_neighbors = 5)\n",
    "X_knn_impute = knn_impute.fit_transform(X_Na)\n",
    "X_knn_impute = pd.DataFrame(X_knn_impute, columns = X.columns)\n",
    "\n",
    "# Check to make sure there are no NAs\n",
    "X_knn_impute.isna().sum()"
   ]
  },
  {
   "cell_type": "markdown",
   "id": "4bf31369-4fef-4047-b19c-7ec973da6a4c",
   "metadata": {},
   "source": [
    "Now that we have four different dataframes with four different imputation methods, lets see which best captured our real data! We  can do this using the mean squared error!"
   ]
  },
  {
   "cell_type": "code",
   "execution_count": 19,
   "id": "bfc23fee-0054-4d7e-be57-464e815387a5",
   "metadata": {
    "tags": []
   },
   "outputs": [
    {
     "name": "stdout",
     "output_type": "stream",
     "text": [
      "Mode Imputation Performance: 0.4429300389418558\n",
      "Median Imputation Performance: 0.2580345553019113\n",
      "KNN Imputation Performance: 0.12402220133387046\n"
     ]
    }
   ],
   "source": [
    "# Calculation imputation accuracy using mean squared error\n",
    "mse_mode = mean_squared_error(X, X_mode_impute)\n",
    "mse_median = mean_squared_error(X, X_median_impute)\n",
    "mse_knn = mean_squared_error(X, X_knn_impute)\n",
    "\n",
    "# Report resutls\n",
    "print(f\"Mode Imputation Performance: {mse_mode}\")\n",
    "print(f\"Median Imputation Performance: {mse_median}\")\n",
    "print(f\"KNN Imputation Performance: {mse_knn}\")"
   ]
  },
  {
   "cell_type": "markdown",
   "id": "361ba588-fb1f-4662-b720-66c19f632994",
   "metadata": {},
   "source": [
    "It looks like our KNN Imputation worked best! Let's go ahead and use our data and our real data to run a Bagged Decision Tree."
   ]
  },
  {
   "cell_type": "markdown",
   "id": "6d510f8a-1b7e-4b5c-b6a8-b3d8ae58341d",
   "metadata": {},
   "source": [
    "## Bagging Classifoed with original data"
   ]
  },
  {
   "cell_type": "code",
   "execution_count": 20,
   "id": "a6befb21-1d7c-45f6-90f2-f208cfa67a28",
   "metadata": {
    "tags": []
   },
   "outputs": [],
   "source": [
    "# Split actual data\n",
    "X_train, X_test, y_train, y_test = train_test_split(X, y, test_size= 0.3, random_state= 42)"
   ]
  },
  {
   "cell_type": "code",
   "execution_count": 28,
   "id": "beab1e43-41a0-4a14-98f5-4ca7ffd6222a",
   "metadata": {
    "tags": []
   },
   "outputs": [
    {
     "name": "stdout",
     "output_type": "stream",
     "text": [
      "Number of features:1; Random Forest accuracy: 0.916735028712059\n",
      "Number of features:4; Random Forest accuracy: 0.9848236259228876\n",
      "Number of features:7; Random Forest accuracy: 0.9868744872846595\n",
      "Number of features:10; Random Forest accuracy: 0.9835931091058244\n",
      "Number of features:13; Random Forest accuracy: 0.9823625922887613\n",
      "Number of features:16; Random Forest accuracy: 0.9860541427399507\n",
      "Number of features:19; Random Forest accuracy: 0.9819524200164069\n",
      "Number of features:22; Random Forest accuracy: 0.9577522559474979\n"
     ]
    }
   ],
   "source": [
    "# Number of features to include for tuning\n",
    "num_features = [1, 4, 7, 10, 13, 16, 19, 22]\n",
    "accuracy = []\n",
    "\n",
    "for feature in num_features:\n",
    "    rf_classifier = RandomForestClassifier(\n",
    "        n_estimators = 50, \n",
    "        max_depth = 3, \n",
    "        random_state = 42, \n",
    "        max_features = feature\n",
    "    )\n",
    "    \n",
    "    rf_classifier.fit(X_train, y_train)\n",
    "    \n",
    "    # Predict and evaluate results\n",
    "    \n",
    "    y_pred = rf_classifier.predict(X_test)\n",
    "    rf_accuracy = accuracy_score(y_test, y_pred)\n",
    "    accuracy.append(rf_accuracy)\n",
    "    \n",
    "    print(f\"Number of features:{feature}; Random Forest accuracy: {rf_accuracy}\")"
   ]
  },
  {
   "cell_type": "markdown",
   "id": "632c037d-2057-4ff6-9ff5-443517d8b347",
   "metadata": {},
   "source": [
    "## Random Forest Classifier with imputed data:"
   ]
  },
  {
   "cell_type": "code",
   "execution_count": 29,
   "id": "15c0ed74-4f40-4ecf-8091-1803d4a95016",
   "metadata": {
    "tags": []
   },
   "outputs": [],
   "source": [
    "# Split imputed data\n",
    "X_train, X_test, y_train, y_test = train_test_split(X_knn_impute, y, test_size= 0.3, random_state= 42)"
   ]
  },
  {
   "cell_type": "code",
   "execution_count": 30,
   "id": "458556f1-24b2-4afb-aba1-a8bb3d11061e",
   "metadata": {
    "tags": []
   },
   "outputs": [
    {
     "name": "stdout",
     "output_type": "stream",
     "text": [
      "Number of features:1; Random Forest accuracy: 0.9175553732567678\n",
      "Number of features:4; Random Forest accuracy: 0.9827727645611156\n",
      "Number of features:7; Random Forest accuracy: 0.9864643150123051\n",
      "Number of features:10; Random Forest accuracy: 0.9856439704675964\n",
      "Number of features:13; Random Forest accuracy: 0.9881050041017228\n",
      "Number of features:16; Random Forest accuracy: 0.9708777686628384\n",
      "Number of features:19; Random Forest accuracy: 0.9667760459392944\n",
      "Number of features:22; Random Forest accuracy: 0.9573420836751435\n"
     ]
    }
   ],
   "source": [
    "# Number of features to include for tuning\n",
    "num_features = [1, 4, 7, 10, 13, 16, 19, 22]\n",
    "accuracy = []\n",
    "\n",
    "for feature in num_features:\n",
    "    rf_classifier = RandomForestClassifier(\n",
    "        n_estimators = 50, \n",
    "        max_depth = 3, \n",
    "        random_state = 42, \n",
    "        max_features = feature\n",
    "    )\n",
    "    \n",
    "    rf_classifier.fit(X_train, y_train)\n",
    "    \n",
    "    # Predict and evaluate results\n",
    "    \n",
    "    y_pred = rf_classifier.predict(X_test)\n",
    "    rf_accuracy = accuracy_score(y_test, y_pred)\n",
    "    accuracy.append(rf_accuracy)\n",
    "    \n",
    "    print(f\"Number of features:{feature}; Random Forest accuracy: {rf_accuracy}\")"
   ]
  },
  {
   "cell_type": "markdown",
   "id": "cc2f13f7-0be5-4ce8-b7fa-a3f5902b6f6b",
   "metadata": {},
   "source": [
    "## Random Forest Classifier with mode data:"
   ]
  },
  {
   "cell_type": "code",
   "execution_count": 34,
   "id": "3c3c2caa-946b-4d39-a59f-5369e9f2adc9",
   "metadata": {
    "tags": []
   },
   "outputs": [],
   "source": [
    "# Split mode data\n",
    "X_train, X_test, y_train, y_test = train_test_split(X_mode_impute, y, test_size= 0.3, random_state= 42)"
   ]
  },
  {
   "cell_type": "code",
   "execution_count": 35,
   "id": "d3901ea1-6501-4810-8952-ed59c7b9072c",
   "metadata": {
    "tags": []
   },
   "outputs": [
    {
     "name": "stdout",
     "output_type": "stream",
     "text": [
      "Number of features:1; Random Forest accuracy: 0.9142739950779327\n",
      "Number of features:4; Random Forest accuracy: 0.9663658736669402\n",
      "Number of features:7; Random Forest accuracy: 0.9659557013945858\n",
      "Number of features:10; Random Forest accuracy: 0.9663658736669402\n",
      "Number of features:13; Random Forest accuracy: 0.9680065627563577\n",
      "Number of features:16; Random Forest accuracy: 0.9602132895816243\n",
      "Number of features:19; Random Forest accuracy: 0.9479081214109926\n",
      "Number of features:22; Random Forest accuracy: 0.9302707136997539\n"
     ]
    }
   ],
   "source": [
    "# Number of features to include for tuning\n",
    "num_features = [1, 4, 7, 10, 13, 16, 19, 22]\n",
    "accuracy = []\n",
    "\n",
    "for feature in num_features:\n",
    "    rf_classifier = RandomForestClassifier(\n",
    "        n_estimators = 50, \n",
    "        max_depth = 3, \n",
    "        random_state = 42, \n",
    "        max_features = feature\n",
    "    )\n",
    "    \n",
    "    rf_classifier.fit(X_train, y_train)\n",
    "    \n",
    "    # Predict and evaluate results\n",
    "    \n",
    "    y_pred = rf_classifier.predict(X_test)\n",
    "    rf_accuracy = accuracy_score(y_test, y_pred)\n",
    "    accuracy.append(rf_accuracy)\n",
    "    \n",
    "    print(f\"Number of features:{feature}; Random Forest accuracy: {rf_accuracy}\")"
   ]
  },
  {
   "cell_type": "code",
   "execution_count": null,
   "id": "97971cb3-fcb6-417f-8c67-f807a76ec470",
   "metadata": {},
   "outputs": [],
   "source": []
  }
 ],
 "metadata": {
  "kernelspec": {
   "display_name": "Anaconda 3 (EDS232)",
   "language": "python",
   "name": "ml-env"
  },
  "language_info": {
   "codemirror_mode": {
    "name": "ipython",
    "version": 3
   },
   "file_extension": ".py",
   "mimetype": "text/x-python",
   "name": "python",
   "nbconvert_exporter": "python",
   "pygments_lexer": "ipython3",
   "version": "3.10.16"
  }
 },
 "nbformat": 4,
 "nbformat_minor": 5
}
