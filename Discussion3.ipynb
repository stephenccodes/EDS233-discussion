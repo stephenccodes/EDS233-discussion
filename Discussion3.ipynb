{
 "cells": [
  {
   "cell_type": "markdown",
   "id": "e3e01999-7fa3-462a-8ef0-4be288d4b21e",
   "metadata": {
    "tags": []
   },
   "source": [
    "## Import Libraries"
   ]
  },
  {
   "cell_type": "code",
   "execution_count": 1,
   "id": "1ffc225f-2f04-4773-b5e2-dd5396dc7913",
   "metadata": {
    "tags": []
   },
   "outputs": [],
   "source": [
    "# Import necessary libraries\n",
    "import numpy as np\n",
    "import pandas as pd\n",
    "from sklearn.model_selection import train_test_split\n",
    "from sklearn.linear_model import LogisticRegression\n",
    "from sklearn.metrics import roc_curve, auc, confusion_matrix\n",
    "import matplotlib.pyplot as plt\n",
    "from ipywidgets import interact, FloatSlider\n",
    "import seaborn as sns"
   ]
  },
  {
   "cell_type": "markdown",
   "id": "7b37ec65-2c50-4a64-ba0f-9e15af47a179",
   "metadata": {},
   "source": [
    "## Function 1\n",
    "### Generate species data "
   ]
  },
  {
   "cell_type": "code",
   "execution_count": 2,
   "id": "cbfd14e8-83a4-40cd-9920-97c73e641c3c",
   "metadata": {
    "tags": []
   },
   "outputs": [],
   "source": [
    "def generate_species_data(n_samples=1000, presence_ratio=0.3):\n",
    "    # Calculate number of samples for each class\n",
    "    n_present = int(n_samples * presence_ratio)\n",
    "    n_absent = n_samples - n_present\n",
    "    \n",
    "    # Generate features for presence sites \n",
    "    # Green crabs prefer warmer temps (between 64 and 79 degrees Fahrenheit) and  salinity between 26 and 39 ppt\n",
    "    temp_present = np.random.normal(loc=71, scale= 4, size=n_present)\n",
    "    salinity_present = np.random.normal(loc=32, scale=3, size=n_present)\n",
    "    X_present = np.column_stack([temp_present, salinity_present])\n",
    "    y_present = np.ones(n_present)\n",
    "    \n",
    "    # Generate features for absence sites\n",
    "    # Sites with warmer temps or lower salinity\n",
    "    temp_absent = np.random.normal(loc=26, scale=3, size=n_absent)\n",
    "    salinity_absent = np.random.normal(loc=28, scale=2, size=n_absent)\n",
    "    X_absent = np.column_stack([temp_absent, salinity_absent])\n",
    "    y_absent = np.zeros(n_absent)\n",
    "    \n",
    "    # Combine and shuffle the data\n",
    "    X = np.concatenate([X_present, X_absent])\n",
    "    y = np.concatenate([y_present, y_absent])\n",
    "    \n",
    "    # Shuffle the data\n",
    "    shuffle_idx = np.random.permutation(n_samples)\n",
    "    X = X[shuffle_idx]\n",
    "    y = y[shuffle_idx]\n",
    "    \n",
    "    return X, y"
   ]
  },
  {
   "cell_type": "markdown",
   "id": "bdc0b090-d09c-4316-8b5e-6f13f48c9f20",
   "metadata": {},
   "source": [
    "## Function 2\n",
    "\n",
    "### Create a function that creats a bar plot of species presense distribution based on the ratio selected by the user."
   ]
  },
  {
   "cell_type": "code",
   "execution_count": 3,
   "id": "253419d3-92d2-419c-90de-9a4213fc49f3",
   "metadata": {},
   "outputs": [],
   "source": [
    "def plot_class_distribution(y):\n",
    "    plt.figure(figsize = (8,4))\n",
    "    \n",
    "    # Count the values in each category\n",
    "    class_counts = pd.Series(y).value_counts().sort_index()\n",
    "    \n",
    "    # Create a barplot of Absent and present species\n",
    "    sns.barplot(x = ['Absent', 'Present'], y = class_counts, color = 'Navy')\n",
    "    plt.title('Dist of Species Present/Absent')\n",
    "    plt.ylabel('Number of Sampling sites')\n",
    "    \n",
    "    # Add a percent over each bar\n",
    "    total = len(y)\n",
    "    for i, count in enumerate(class_counts):\n",
    "        percentage = count/total * 100\n",
    "        plt.text(i, count, f'{percentage:.1f}',\n",
    "                ha = 'center',\n",
    "                va = 'bottom')\n",
    "    plt.show()"
   ]
  },
  {
   "cell_type": "markdown",
   "id": "041721a2-6948-4398-8eb1-afb3020a9f0b",
   "metadata": {},
   "source": [
    "## Function 3\n",
    "\n",
    "### Create a function that plots a confusion matrix of the predicted y values and true y values."
   ]
  },
  {
   "cell_type": "code",
   "execution_count": 4,
   "id": "d9920250-4d9f-4e45-90b4-0e4b79f6d028",
   "metadata": {},
   "outputs": [],
   "source": [
    "def plot_confusion_matrix(y_true, y_pred):\n",
    "\n",
    "    # Create confusion matrix\n",
    "    cm = confusion_matrix(y_true, y_pred)\n",
    "    \n",
    "    # Create confusion matrix plot\n",
    "    plt.figure(figsize = (8,6))\n",
    "    sns.heatmap(cm, annot = True, \n",
    "                fmt = 'd', \n",
    "                cmap = 'GnBu',\n",
    "                xticklabels = ['Absent', 'Present'],\n",
    "               yticklabels = ['Absent', 'Present'])\n",
    "    plt.title('Confusion Matrix')\n",
    "    plt.ylabel('True Label')\n",
    "    plt.xlabel('Predicted Label')\n",
    "    plt.show()\n",
    "    \n",
    "    \n",
    "    # Calculate metrics\n",
    "    TP = cm[1,1]\n",
    "    TN = cm[0,0]\n",
    "    FP = cm[0,1]\n",
    "    FN = cm[1,0]\n",
    "    \n",
    "    print(\"\\nMetrics from Confusion Matrix:\")\n",
    "    print(f\"True Positives (correctly predicted presence): {TP}\")\n",
    "    print(f\"True Negatives (correctly predicted absence): {TN}\")\n",
    "    print(f\"False Positives (incorrectly predicted presenece): {FP}\")\n",
    "    print(f\"False Negatives (incorrectly predicted absenece): {FN}\")\n",
    "    \n",
    "    # Calculate accuracy\n",
    "    accuracy = (TP + TN) / (TP + TN + FP + FN)\n",
    "    majority_baseline = max(np.mean(y_true), 1 - np.mean(y_true))\n",
    "    sensitivity = TP / (TP + FN)\n",
    "    specificity = TN / (TN + FP)\n",
    "    \n",
    "    # Print metrics\n",
    "    print(f\"\\nModel performance Metrics:\")\n",
    "    print(f\"Accuracy: {accuracy:.3f}\")\n",
    "    print(f\"Sensitivity (True positive rate): {sensitivity:.3f}\")\n",
    "    print(f\"Specificity (True negative rate): {specificity:.3f}\")"
   ]
  },
  {
   "cell_type": "markdown",
   "id": "b0688548-5e97-4073-b70e-a45c00c9e2c1",
   "metadata": {},
   "source": [
    "## Function 4\n",
    "\n",
    "### Create a function that plots an ROC curve using the predicted y class probabilities and true y values."
   ]
  },
  {
   "cell_type": "code",
   "execution_count": 5,
   "id": "e27db29a-4189-44d5-a349-291e23acf62e",
   "metadata": {},
   "outputs": [],
   "source": [
    "def plot_roc_curve(y_test, y_pred_prob):\n",
    "    \n",
    "    fpr, tpr, _ = roc_curve(y_test, y_pred_prob) # `_` ignores third parameter 'threshold'\n",
    "    roc_auc = auc(fpr, tpr)\n",
    "    \n",
    "    plt.figure(figsize = (8,6))\n",
    "    plt.plot(fpr, tpr, color = 'darkorange', lw = 2, \n",
    "             label = f\"RPC Curce (AUC = {roc_auc:.2f})\")\n",
    "    plt.plot([0,1], [0,1], color = 'navy', lw = 2, linestyle = '--',\n",
    "            label = 'Random Classifier (AUC = 0.5)')\n",
    "    plt.xlabel('False Positive Rate')\n",
    "    plt.ylabel('True Positive Rate')\n",
    "    plt.title('ROC Curve: Species Presence Prediction')\n",
    "    plt.legend()\n",
    "    plt.grid(True)\n",
    "    plt.show()"
   ]
  },
  {
   "cell_type": "markdown",
   "id": "296bda93-185a-4fd4-950d-04c195da34e0",
   "metadata": {},
   "source": [
    "## Function 5\n",
    "\n",
    "### Create function that runs a logistic regression and outputs the three plots you created above."
   ]
  },
  {
   "cell_type": "code",
   "execution_count": 6,
   "id": "23fc4ea7-7fa3-4418-a7fc-fa021bbf3457",
   "metadata": {},
   "outputs": [],
   "source": [
    "def interactive_logistic_regression(presence_ratio = 0.3):\n",
    "    X, y = generate_species_data(presence_ratio = presence_ratio)\n",
    "    \n",
    "    # Plot class distribution\n",
    "    print(\"\\nClass Distribution\")\n",
    "    plot_class_distribution(y)\n",
    "    \n",
    "    # Split the data\n",
    "    X_train, X_test, y_train, y_test = train_test_split(X, y, test_size= 0.3, random_state= 42)\n",
    "    \n",
    "    # Train the model\n",
    "    model = LogisticRegression()\n",
    "    model.fit(X_train, y_train)\n",
    "    \n",
    "    # Make my predictions\n",
    "    y_pred = model.predict(X_test)\n",
    "    y_pred_prob = model.predict_proba(X_test)[:, 1]\n",
    "    \n",
    "    # Plot confusion matrix\n",
    "    print(\"\\nConfusion Matrix\")\n",
    "    plot_confusion_matrix(y_test, y_pred)\n",
    "    \n",
    "    # Plot ROC curve\n",
    "    print(\"\\nROC Curve:\")\n",
    "    plot_roc_curve(y_test, y_pred_prob)"
   ]
  },
  {
   "cell_type": "markdown",
   "id": "1694edcd-f099-4f03-9d49-0f838923338d",
   "metadata": {},
   "source": [
    "## Function 6\n",
    "\n",
    "### Create a function that adds interactivity to function 5."
   ]
  },
  {
   "cell_type": "code",
   "execution_count": 7,
   "id": "4225f545-ffb6-4ebe-8396-dddeec135469",
   "metadata": {
    "tags": []
   },
   "outputs": [
    {
     "data": {
      "application/vnd.jupyter.widget-view+json": {
       "model_id": "f74f80ed52804d408f74c72b6d621f46",
       "version_major": 2,
       "version_minor": 0
      },
      "text/plain": [
       "interactive(children=(FloatSlider(value=0.3, description='% Present', max=0.9, min=0.1), Output()), _dom_class…"
      ]
     },
     "metadata": {},
     "output_type": "display_data"
    }
   ],
   "source": [
    "# Create interactive widget\n",
    "def generate_log_regression():\n",
    "    interact(interactive_logistic_regression,\n",
    "            presence_ratio = FloatSlider(min = 0.1, max = 0.9, step = 0.1, value = 0.3, description = \"% Present\"))\n",
    "    \n",
    "generate_log_regression()"
   ]
  },
  {
   "cell_type": "code",
   "execution_count": null,
   "id": "e8e5f9a9-91ab-4d73-a7c1-d97899fd2174",
   "metadata": {},
   "outputs": [],
   "source": []
  }
 ],
 "metadata": {
  "kernelspec": {
   "display_name": "Anaconda 3 (EDS232)",
   "language": "python",
   "name": "ml-env"
  },
  "language_info": {
   "codemirror_mode": {
    "name": "ipython",
    "version": 3
   },
   "file_extension": ".py",
   "mimetype": "text/x-python",
   "name": "python",
   "nbconvert_exporter": "python",
   "pygments_lexer": "ipython3",
   "version": "3.10.16"
  }
 },
 "nbformat": 4,
 "nbformat_minor": 5
}
